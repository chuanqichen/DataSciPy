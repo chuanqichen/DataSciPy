{
 "cells": [
  {
   "cell_type": "markdown",
   "metadata": {},
   "source": [
    "![Py4Eng](img/logo.png)\n",
    "\n",
    "# Pythonic Idioms\n",
    "## Yoav Ram"
   ]
  },
  {
   "cell_type": "markdown",
   "metadata": {},
   "source": [
    "# The Zen of Python"
   ]
  },
  {
   "cell_type": "code",
   "execution_count": 1,
   "metadata": {
    "collapsed": false
   },
   "outputs": [
    {
     "name": "stdout",
     "output_type": "stream",
     "text": [
      "The Zen of Python, by Tim Peters\n",
      "\n",
      "Beautiful is better than ugly.\n",
      "Explicit is better than implicit.\n",
      "Simple is better than complex.\n",
      "Complex is better than complicated.\n",
      "Flat is better than nested.\n",
      "Sparse is better than dense.\n",
      "Readability counts.\n",
      "Special cases aren't special enough to break the rules.\n",
      "Although practicality beats purity.\n",
      "Errors should never pass silently.\n",
      "Unless explicitly silenced.\n",
      "In the face of ambiguity, refuse the temptation to guess.\n",
      "There should be one-- and preferably only one --obvious way to do it.\n",
      "Although that way may not be obvious at first unless you're Dutch.\n",
      "Now is better than never.\n",
      "Although never is often better than *right* now.\n",
      "If the implementation is hard to explain, it's a bad idea.\n",
      "If the implementation is easy to explain, it may be a good idea.\n",
      "Namespaces are one honking great idea -- let's do more of those!\n"
     ]
    }
   ],
   "source": [
    "import this"
   ]
  },
  {
   "cell_type": "markdown",
   "metadata": {},
   "source": [
    "# PEP8\n",
    "\n",
    "The Python coding style recommendation.\n",
    "\n",
    "- Four spaces per indentation level\n",
    "- Never mix tabs and spaces\n",
    "- One blank line between functions\n",
    "- Two blank lines between classes\n",
    "- Space after `,` and `:`, but not before\n",
    "- Space before and after operators (`=`, `+`, etc.), except in argument list\n",
    "- `joined_lowercae` for variables and functions\n",
    "- `ALL_CAPS` for constants\n",
    "- `StudlyCaps` for classes\n",
    "- `camelCase` only if adding to existing code that uses it\n",
    "- `_` and `__` prefixes for \"hidden\" and builtin methods.\n",
    "- Maximum 80 chars per line; break in arguments lists and dicts or use `\\` if you must.\n",
    "- One line per statement; One statement per line\n",
    "- Docstrings (`\"\"\"`) for how to use the code\n",
    "- Comments (`#`) for why and how the code is written"
   ]
  },
  {
   "cell_type": "markdown",
   "metadata": {},
   "source": [
    "# Swapping values\n",
    "\n",
    "In some languages:"
   ]
  },
  {
   "cell_type": "code",
   "execution_count": 2,
   "metadata": {
    "collapsed": false
   },
   "outputs": [
    {
     "name": "stdout",
     "output_type": "stream",
     "text": [
      "5 3\n",
      "3 5\n"
     ]
    }
   ],
   "source": [
    "a = 5\n",
    "b = 3\n",
    "print(a, b)\n",
    "\n",
    "tmp = a\n",
    "a = b\n",
    "b = tmp\n",
    "print(a, b)"
   ]
  },
  {
   "cell_type": "markdown",
   "metadata": {},
   "source": [
    "In Python we can use _tuple packing and unpacking_:"
   ]
  },
  {
   "cell_type": "code",
   "execution_count": 3,
   "metadata": {
    "collapsed": false
   },
   "outputs": [
    {
     "name": "stdout",
     "output_type": "stream",
     "text": [
      "3 5\n",
      "5 3\n"
     ]
    }
   ],
   "source": [
    "print(a, b)\n",
    "a, b = b, a\n",
    "print(a, b)"
   ]
  },
  {
   "cell_type": "markdown",
   "metadata": {},
   "source": [
    "This uses tuple packing and unpacking."
   ]
  },
  {
   "cell_type": "markdown",
   "metadata": {},
   "source": [
    "# Last statement is `_`"
   ]
  },
  {
   "cell_type": "code",
   "execution_count": 4,
   "metadata": {
    "collapsed": false
   },
   "outputs": [
    {
     "data": {
      "text/plain": [
       "9"
      ]
     },
     "execution_count": 4,
     "metadata": {},
     "output_type": "execute_result"
    }
   ],
   "source": [
    "5 + 4"
   ]
  },
  {
   "cell_type": "code",
   "execution_count": 5,
   "metadata": {
    "collapsed": false
   },
   "outputs": [
    {
     "name": "stdout",
     "output_type": "stream",
     "text": [
      "9\n"
     ]
    }
   ],
   "source": [
    "print(_)"
   ]
  },
  {
   "cell_type": "markdown",
   "metadata": {},
   "source": [
    "# Zip sequences\n",
    "\n",
    "`zip` takes several iterables and creates a new iterator in which object at index `i` is a tuple of the elements at index `i` in the original iterables."
   ]
  },
  {
   "cell_type": "code",
   "execution_count": 6,
   "metadata": {
    "collapsed": false
   },
   "outputs": [
    {
     "data": {
      "text/plain": [
       "<zip at 0x10fdad048>"
      ]
     },
     "execution_count": 6,
     "metadata": {},
     "output_type": "execute_result"
    }
   ],
   "source": [
    "given = ['John', 'Eric', 'Terry', 'Michael']\n",
    "family = ['Cleese', 'Idle', 'Gilliam', 'Palin']\n",
    "zip(given, family)"
   ]
  },
  {
   "cell_type": "markdown",
   "metadata": {},
   "source": [
    "To use the `zip` object returned we need to iterate it or convert it to another type:"
   ]
  },
  {
   "cell_type": "code",
   "execution_count": 7,
   "metadata": {
    "collapsed": false
   },
   "outputs": [
    {
     "name": "stdout",
     "output_type": "stream",
     "text": [
      "{'John': 'Cleese', 'Eric': 'Idle', 'Terry': 'Gilliam', 'Michael': 'Palin'}\n"
     ]
    }
   ],
   "source": [
    "pythons = dict(zip(given, family))\n",
    "print(pythons)"
   ]
  },
  {
   "cell_type": "markdown",
   "metadata": {},
   "source": [
    "# Implicit casting to `bool`\n",
    "\n",
    "All types can be converted to `bool` implicitly:"
   ]
  },
  {
   "cell_type": "code",
   "execution_count": 8,
   "metadata": {
    "collapsed": false
   },
   "outputs": [
    {
     "name": "stdout",
     "output_type": "stream",
     "text": [
      "Empty list\n"
     ]
    }
   ],
   "source": [
    "lst = []\n",
    "if lst:\n",
    "    print(lst[0])\n",
    "else:\n",
    "    print(\"Empty list\")"
   ]
  },
  {
   "cell_type": "code",
   "execution_count": 9,
   "metadata": {
    "collapsed": false
   },
   "outputs": [
    {
     "name": "stdout",
     "output_type": "stream",
     "text": [
      "51\n"
     ]
    }
   ],
   "source": [
    "a = 51\n",
    "if a:\n",
    "    print(a)\n",
    "else:\n",
    "    print('a is zero')"
   ]
  },
  {
   "cell_type": "code",
   "execution_count": 10,
   "metadata": {
    "collapsed": false
   },
   "outputs": [
    {
     "name": "stdout",
     "output_type": "stream",
     "text": [
      "I am nameless\n",
      "My name is Slim Shaddy\n"
     ]
    }
   ],
   "source": [
    "myname = ''\n",
    "if not myname:\n",
    "    print(\"I am nameless\")\n",
    "myname = 'Slim Shaddy'\n",
    "if myname:\n",
    "    print(\"My name is\", myname)"
   ]
  },
  {
   "cell_type": "code",
   "execution_count": 11,
   "metadata": {
    "collapsed": false
   },
   "outputs": [
    {
     "name": "stdout",
     "output_type": "stream",
     "text": [
      "1\n"
     ]
    }
   ],
   "source": [
    "class A:\n",
    "    \n",
    "    def __init__(self, a):\n",
    "        self.a = a\n",
    "        \n",
    "    def __bool__(self):\n",
    "        return bool(self.a)\n",
    "    \n",
    "a1 = A(1)\n",
    "a2 = A(0)\n",
    "if a1:\n",
    "    print(a1.a)\n",
    "if a2:\n",
    "    print(a2.a)"
   ]
  },
  {
   "cell_type": "markdown",
   "metadata": {},
   "source": [
    "# Default arguments\n",
    "\n",
    "Functions can have default arguments:"
   ]
  },
  {
   "cell_type": "code",
   "execution_count": 12,
   "metadata": {
    "collapsed": false
   },
   "outputs": [
    {
     "name": "stdout",
     "output_type": "stream",
     "text": [
      "5\n",
      "1\n"
     ]
    }
   ],
   "source": [
    "def foo(a=1):\n",
    "    print(a)\n",
    "\n",
    "foo(5)\n",
    "foo()"
   ]
  },
  {
   "cell_type": "markdown",
   "metadata": {},
   "source": [
    "If the default value is mutable, we should take care:"
   ]
  },
  {
   "cell_type": "code",
   "execution_count": 13,
   "metadata": {
    "collapsed": false
   },
   "outputs": [],
   "source": [
    "def foo(item, container=[]):\n",
    "    container.append(item)\n",
    "    return container"
   ]
  },
  {
   "cell_type": "code",
   "execution_count": 14,
   "metadata": {
    "collapsed": false
   },
   "outputs": [
    {
     "name": "stdout",
     "output_type": "stream",
     "text": [
      "[5]\n",
      "[5, 5]\n",
      "[5, 5, 5]\n"
     ]
    }
   ],
   "source": [
    "print(foo(5))\n",
    "print(foo(5))\n",
    "print(foo(5))"
   ]
  },
  {
   "cell_type": "markdown",
   "metadata": {},
   "source": [
    "The default value is set once, at function definition, so a mutable value will be mutated at each call to the function.\n",
    "\n",
    "So what can we do?"
   ]
  },
  {
   "cell_type": "code",
   "execution_count": 15,
   "metadata": {
    "collapsed": true
   },
   "outputs": [],
   "source": [
    "def foo(item, container=None):\n",
    "    if container is None:\n",
    "        container = [] \n",
    "    container.append(item)\n",
    "    return container"
   ]
  },
  {
   "cell_type": "code",
   "execution_count": 16,
   "metadata": {
    "collapsed": false
   },
   "outputs": [
    {
     "name": "stdout",
     "output_type": "stream",
     "text": [
      "[5]\n",
      "[5]\n",
      "[5]\n"
     ]
    }
   ],
   "source": [
    "print(foo(5))\n",
    "print(foo(5))\n",
    "print(foo(5))"
   ]
  },
  {
   "cell_type": "markdown",
   "metadata": {},
   "source": [
    "# String formatting\n",
    "\n",
    "Python used to use the `%` formatting, but the new approach is to use the `format` method of string.\n",
    "\n",
    "See [Python String Format Cookbook](https://mkaz.github.io/2012/10/10/python-string-format/) for help."
   ]
  },
  {
   "cell_type": "code",
   "execution_count": 17,
   "metadata": {
    "collapsed": false
   },
   "outputs": [
    {
     "name": "stdout",
     "output_type": "stream",
     "text": [
      "3 bottles of beer on the wall,\n",
      "3 bottles of beer.\n",
      "Take one down, pass it around,\n",
      "2 bottles of beer on the wall...\n",
      "2 bottles of beer on the wall,\n",
      "2 bottles of beer.\n",
      "Take one down, pass it around,\n",
      "1 bottles of beer on the wall...\n",
      "1 bottles of beer on the wall,\n",
      "1 bottles of beer.\n",
      "Take one down, pass it around,\n",
      "0 bottles of beer on the wall...\n"
     ]
    }
   ],
   "source": [
    "chorus = \"\"\"{0} bottles of beer on the wall,\n",
    "{0} bottles of beer.\n",
    "Take one down, pass it around,\n",
    "{1} bottles of beer on the wall...\"\"\"\n",
    "\n",
    "for bottles in range(3, 0, -1):\n",
    "    print(chorus.format(bottles, bottles - 1))"
   ]
  },
  {
   "cell_type": "markdown",
   "metadata": {},
   "source": [
    "## Exercise\n",
    "\n",
    "Given the variables below, print the string:\n",
    "\n",
    "> Io was discovered in 1610 by Galileo Galilei and was last visited in 2007 by New Horizons. It's radius is 1822 km and it's mass is 8.93194e+22 kg."
   ]
  },
  {
   "cell_type": "code",
   "execution_count": 20,
   "metadata": {
    "collapsed": false
   },
   "outputs": [],
   "source": [
    "name = 'Io'\n",
    "discovery_year = 1610\n",
    "discoverer = 'Galileo Galilei'\n",
    "radius = 1821.6\n",
    "mass = 8.931938e22\n",
    "last_visited = '2007'\n",
    "last_visitor = 'New Horizons'\n",
    "\n"
   ]
  },
  {
   "cell_type": "markdown",
   "metadata": {},
   "source": [
    "# Sorting\n",
    "\n",
    "Python has two builtin sorting functions that are very flexible.\n",
    "\n",
    "- `sorted` accepts a collection and returns a (new) sorted copy.\n",
    "- `sort` is a method that sorts in-place."
   ]
  },
  {
   "cell_type": "code",
   "execution_count": 19,
   "metadata": {
    "collapsed": false
   },
   "outputs": [
    {
     "name": "stdout",
     "output_type": "stream",
     "text": [
      "[32, 44, 1, 22, 30, -53, 75]\n",
      "[-53, 1, 22, 30, 32, 44, 75]\n",
      "[-53, 1, 22, 30, 32, 44, 75]\n"
     ]
    }
   ],
   "source": [
    "data = [32, 44, 1, 22, 30, -53, 75]\n",
    "\n",
    "print(data)\n",
    "print(sorted(data))\n",
    "data.sort()\n",
    "print(data)"
   ]
  },
  {
   "cell_type": "markdown",
   "metadata": {},
   "source": [
    "You can also pass `sorted` and `sort` a `key` function that will determine the sorting:"
   ]
  },
  {
   "cell_type": "code",
   "execution_count": 20,
   "metadata": {
    "collapsed": false
   },
   "outputs": [
    {
     "name": "stdout",
     "output_type": "stream",
     "text": [
      "Unsorted:\n",
      " ['Kobe', 'Shaq', 'MJ', 'Magic', 'Larry']\n",
      "Sorted by deafult order:\n",
      " ['Kobe', 'Larry', 'MJ', 'Magic', 'Shaq']\n",
      "Sorted by length:\n",
      " ['MJ', 'Kobe', 'Shaq', 'Magic', 'Larry']\n"
     ]
    }
   ],
   "source": [
    "names = ['Kobe', 'Shaq', 'MJ', 'Magic', 'Larry']\n",
    "print(\"Unsorted:\\n\", names)\n",
    "print(\"Sorted by deafult order:\\n\", sorted(names))\n",
    "print(\"Sorted by length:\\n\", sorted(names, key=len))"
   ]
  },
  {
   "cell_type": "markdown",
   "metadata": {},
   "source": [
    "**Note**: Python's sort - [timsort](https://en.wikipedia.org/wiki/Timsort) - is considered a very good sorting alogirthm. It was implemented by Tim Peters in 2002 (Python v2.3) and has since been ported to Java and other platforms."
   ]
  },
  {
   "cell_type": "markdown",
   "metadata": {},
   "source": [
    "# Hello World!\n",
    "\n",
    "Because _Hello World!_ is such a common getting started exercise, the Python developers decided to facilitate such exercises:"
   ]
  },
  {
   "cell_type": "code",
   "execution_count": 21,
   "metadata": {
    "collapsed": false
   },
   "outputs": [
    {
     "name": "stdout",
     "output_type": "stream",
     "text": [
      "Hello world!\n"
     ]
    }
   ],
   "source": [
    "import __hello__"
   ]
  },
  {
   "cell_type": "markdown",
   "metadata": {},
   "source": [
    "There are some additional easter eggs in Python, we'll see some of them as we advance."
   ]
  },
  {
   "cell_type": "markdown",
   "metadata": {},
   "source": [
    "## $\\lambda$ expressions\n",
    "\n",
    "Python supports anonymous functions using the `lambda` statement:"
   ]
  },
  {
   "cell_type": "code",
   "execution_count": 22,
   "metadata": {
    "collapsed": false
   },
   "outputs": [
    {
     "data": {
      "text/plain": [
       "8"
      ]
     },
     "execution_count": 22,
     "metadata": {},
     "output_type": "execute_result"
    }
   ],
   "source": [
    "(lambda x: x + 2)(6)"
   ]
  },
  {
   "cell_type": "code",
   "execution_count": 23,
   "metadata": {
    "collapsed": false
   },
   "outputs": [
    {
     "data": {
      "text/plain": [
       "function"
      ]
     },
     "execution_count": 23,
     "metadata": {},
     "output_type": "execute_result"
    }
   ],
   "source": [
    "type(lambda x: x + 2)"
   ]
  },
  {
   "cell_type": "code",
   "execution_count": 24,
   "metadata": {
    "collapsed": true
   },
   "outputs": [
    {
     "name": "stdout",
     "output_type": "stream",
     "text": [
      "8\n",
      "<class 'function'>\n"
     ]
    }
   ],
   "source": [
    "f = lambda x: x + 2\n",
    "print(f(6))\n",
    "print(type(f))"
   ]
  },
  {
   "cell_type": "markdown",
   "metadata": {},
   "source": [
    "# High-order functions\n",
    "\n",
    "High-order function are function that return other functions, and some time also get functions as input.\n",
    "\n",
    "Here is a function that, given a power, returns a function that raises numbers to that power:"
   ]
  },
  {
   "cell_type": "code",
   "execution_count": 25,
   "metadata": {
    "collapsed": false
   },
   "outputs": [
    {
     "data": {
      "text/plain": [
       "25"
      ]
     },
     "execution_count": 25,
     "metadata": {},
     "output_type": "execute_result"
    }
   ],
   "source": [
    "def make_pow(x):\n",
    "    def pow(y):\n",
    "        return y**x\n",
    "    return pow\n",
    "square = make_pow(2)\n",
    "square(5)"
   ]
  },
  {
   "cell_type": "markdown",
   "metadata": {},
   "source": [
    "Note that the above is an example of a [**closure**](https://en.wikipedia.org/wiki/Closure_%28computer_programming%29): the `square` function has access to `x` even though it is defined in the scope of `make_pow`, which already returned."
   ]
  },
  {
   "cell_type": "markdown",
   "metadata": {},
   "source": [
    "## Exercise\n",
    "\n",
    "Below you will find the function `compose(inner, outer)` that given two functions `inner(x)` and `outer(x)` defines a new function `composed(x) = outer(inner(x))`.\n",
    "\n",
    "Use `compose` and `lambda` to define the function `f(x) = 2*x + 1`:"
   ]
  },
  {
   "cell_type": "code",
   "execution_count": null,
   "metadata": {
    "collapsed": true
   },
   "outputs": [],
   "source": []
  },
  {
   "cell_type": "markdown",
   "metadata": {},
   "source": [
    "# Decorators\n",
    "\n",
    "Decorators are used to *modify functions* (and class decorators modify classes). A decorator is a function that takes a function as an argument (and possibly other arguments, too) and returns a function as its output.\n",
    "\n",
    "For example, maybe you want to print the output of some functions before they return. Instead of rewriting those functions, you can modify them with a decorator:"
   ]
  },
  {
   "cell_type": "code",
   "execution_count": 26,
   "metadata": {
    "collapsed": false
   },
   "outputs": [
    {
     "data": {
      "text/plain": [
       "20"
      ]
     },
     "execution_count": 26,
     "metadata": {},
     "output_type": "execute_result"
    }
   ],
   "source": [
    "# some functions\n",
    "def foo(x):\n",
    "    return x + 1\n",
    "def bar(x):\n",
    "    return 2 * x\n",
    "\n",
    "foo(10)\n",
    "bar(10)"
   ]
  },
  {
   "cell_type": "code",
   "execution_count": 27,
   "metadata": {
    "collapsed": false
   },
   "outputs": [
    {
     "name": "stdout",
     "output_type": "stream",
     "text": [
      "11\n",
      "20\n"
     ]
    },
    {
     "data": {
      "text/plain": [
       "20"
      ]
     },
     "execution_count": 27,
     "metadata": {},
     "output_type": "execute_result"
    }
   ],
   "source": [
    "# the decorator\n",
    "def print_output(func):\n",
    "    def new_func(x):\n",
    "        ret_val = func(x)\n",
    "        print(ret_val)\n",
    "        return ret_val\n",
    "    return new_func\n",
    "\n",
    "foo = print_output(foo)\n",
    "bar = print_output(bar)\n",
    "foo(10)\n",
    "bar(10)"
   ]
  },
  {
   "cell_type": "markdown",
   "metadata": {},
   "source": [
    "If you write the decorated function after you already wrote the decorator, you can use `@decorator_name` before the function definition:"
   ]
  },
  {
   "cell_type": "code",
   "execution_count": 28,
   "metadata": {
    "collapsed": false
   },
   "outputs": [
    {
     "name": "stdout",
     "output_type": "stream",
     "text": [
      "4\n",
      "9\n"
     ]
    },
    {
     "data": {
      "text/plain": [
       "13"
      ]
     },
     "execution_count": 28,
     "metadata": {},
     "output_type": "execute_result"
    }
   ],
   "source": [
    "@print_output\n",
    "def square(x):\n",
    "    return x**2\n",
    "\n",
    "square(2) + square(3)"
   ]
  },
  {
   "cell_type": "markdown",
   "metadata": {},
   "source": [
    "## Exercise\n",
    "\n",
    "Write a decorator function called `memoize` that adds *memoization* to a function. The decorator saves results of the decorated function in a dictionary that maps input (assume a single immutble argument) to output (assume a single return value). Then, if the decorated function is called again with the same input, the result it pulled from the dictionary instead of being re-calculated."
   ]
  },
  {
   "cell_type": "code",
   "execution_count": null,
   "metadata": {
    "collapsed": true
   },
   "outputs": [],
   "source": []
  },
  {
   "cell_type": "markdown",
   "metadata": {},
   "source": [
    "Below is a recursive Fibonacci function, which is very inefficient without memoization.\n",
    "The code below will compare the calculation of the 30th Fibonacci number with and without memoization."
   ]
  },
  {
   "cell_type": "code",
   "execution_count": 216,
   "metadata": {
    "collapsed": false
   },
   "outputs": [],
   "source": [
    "def fib(n):\n",
    "    if n <= 1:\n",
    "        return n\n",
    "    return fib(n-1) + fib(n-2)"
   ]
  },
  {
   "cell_type": "code",
   "execution_count": 217,
   "metadata": {
    "collapsed": false
   },
   "outputs": [
    {
     "name": "stdout",
     "output_type": "stream",
     "text": [
      "1 loop, best of 3: 549 ms per loop\n",
      "1 loop, best of 3: 6.71 ms per loop\n"
     ]
    }
   ],
   "source": [
    "%timeit -n 1 fib(30)\n",
    "%timeit -n 1 memoize(fib)(30)"
   ]
  },
  {
   "cell_type": "markdown",
   "metadata": {},
   "source": [
    "# Collections\n",
    "\n",
    "Some intresting idioms from the `collections` module.\n",
    "\n",
    "## `namedtuple`\n",
    "\n",
    "`namedtuple` is a factory for classes that only have specific fields. These classes are subtypes of `tuple`, but their fields are not only ordered but also named."
   ]
  },
  {
   "cell_type": "code",
   "execution_count": 29,
   "metadata": {
    "collapsed": false
   },
   "outputs": [
    {
     "data": {
      "text/plain": [
       "[card(suit='H', number=0),\n",
       " card(suit='H', number=1),\n",
       " card(suit='H', number=2),\n",
       " card(suit='H', number=3),\n",
       " card(suit='H', number=4),\n",
       " card(suit='H', number=5),\n",
       " card(suit='H', number=6),\n",
       " card(suit='H', number=7),\n",
       " card(suit='H', number=8),\n",
       " card(suit='H', number=9)]"
      ]
     },
     "execution_count": 29,
     "metadata": {},
     "output_type": "execute_result"
    }
   ],
   "source": [
    "from collections import namedtuple\n",
    "\n",
    "Card = namedtuple('card', ('suit', 'number'))\n",
    "\n",
    "cards = [Card(s, n) for s in 'H C S D'.split() for n in list(range(11)) + 'J Q K A'.split()]\n",
    "cards[:10]"
   ]
  },
  {
   "cell_type": "markdown",
   "metadata": {},
   "source": [
    "`namedtuple` are still `tuple` so they can be iterated:"
   ]
  },
  {
   "cell_type": "code",
   "execution_count": 30,
   "metadata": {
    "collapsed": false
   },
   "outputs": [
    {
     "name": "stdout",
     "output_type": "stream",
     "text": [
      "H\n",
      "0\n"
     ]
    }
   ],
   "source": [
    "for x in cards[0]:\n",
    "    print(x)"
   ]
  },
  {
   "cell_type": "markdown",
   "metadata": {},
   "source": [
    "But the values can also be access via the properties:"
   ]
  },
  {
   "cell_type": "code",
   "execution_count": 31,
   "metadata": {
    "collapsed": false
   },
   "outputs": [
    {
     "data": {
      "text/plain": [
       "'D'"
      ]
     },
     "execution_count": 31,
     "metadata": {},
     "output_type": "execute_result"
    }
   ],
   "source": [
    "cards[-1].suit"
   ]
  },
  {
   "cell_type": "markdown",
   "metadata": {},
   "source": [
    "## `defaultdict` \n",
    "\n",
    "A `dict` that can be used with a default value. \n",
    "When creating a new instance you provide a function that will return a default value for missing keys."
   ]
  },
  {
   "cell_type": "code",
   "execution_count": 32,
   "metadata": {
    "collapsed": false
   },
   "outputs": [
    {
     "name": "stdout",
     "output_type": "stream",
     "text": [
      "defaultdict(<class 'int'>, {'a': 1})\n",
      "1 0\n"
     ]
    }
   ],
   "source": [
    "from collections import defaultdict\n",
    "\n",
    "d = defaultdict(int)\n",
    "d['a'] = 1\n",
    "\n",
    "print(d)\n",
    "print(d['a'], d['b'])"
   ]
  },
  {
   "cell_type": "markdown",
   "metadata": {},
   "source": [
    "This is nice as it saves the trouble of calling `d.get`, but it can be extra useful when trying to build a multi-dict, in which each key has an associated collection of values, rather than a single value.\n",
    "\n",
    "Instead of doing:"
   ]
  },
  {
   "cell_type": "code",
   "execution_count": 33,
   "metadata": {
    "collapsed": false
   },
   "outputs": [
    {
     "name": "stdout",
     "output_type": "stream",
     "text": [
      "{'a': [1]}\n"
     ]
    }
   ],
   "source": [
    "d = dict()\n",
    "lst = d.get('a', [])\n",
    "lst.append(1)\n",
    "d['a'] = lst\n",
    "\n",
    "print(d)"
   ]
  },
  {
   "cell_type": "markdown",
   "metadata": {},
   "source": [
    "you can use a single call:"
   ]
  },
  {
   "cell_type": "code",
   "execution_count": 34,
   "metadata": {
    "collapsed": false
   },
   "outputs": [
    {
     "name": "stdout",
     "output_type": "stream",
     "text": [
      "defaultdict(<class 'list'>, {'a': [1]})\n"
     ]
    }
   ],
   "source": [
    "d = defaultdict(list)\n",
    "d['a'].append(1)\n",
    "\n",
    "print(d)"
   ]
  },
  {
   "cell_type": "markdown",
   "metadata": {},
   "source": [
    "This results in a shorter, nicer code, but also a more efficient one, lookup and insertion are done in one step in C, so we save a function call.\n",
    "\n",
    "## Example\n",
    "\n",
    "This example integrates a bunch of idioms we saw.\n",
    "\n",
    "We want to find the set of letters that follows each letter in *Gulliver's Travels*.\n",
    "\n",
    "**Notes** \n",
    "- we use a dictionary in which the key is a letter and the value is a `set` that keeps track of letters following the key.\n",
    "- `str.isalpha` returns `True` if the string is a letter (a-z, A-Z).\n",
    "- `next` advances an iterator\n",
    "- `StopIteration` is raised when an iterator is depleted. We usually use iterators in a `for` loops, which stops when `StopIteration` is raised, but if we manually advance an iterator with `next` then we need to use a `try-except` block.\n",
    "- [`itertools.tee`](https://docs.python.org/3.5/library/itertools.html#itertools.tee) creates two (or more, you can specify how many) identical but independent iterators."
   ]
  },
  {
   "cell_type": "code",
   "execution_count": 35,
   "metadata": {
    "collapsed": false
   },
   "outputs": [
    {
     "name": "stdout",
     "output_type": "stream",
     "text": [
      "a: abcdefghijklmnopqrstuvwxyz\n",
      "b: abcdehijlmnoprstuvwy\n",
      "c: abcdeghiklmnopqrstuwy\n",
      "d: abcdefghijklmnopqrstuvwy\n",
      "e: abcdefghijklmnopqrstuvwxyz\n",
      "f: abcdefghijklmnopqrstuvwy\n",
      "g: abcdefghijklmnopqrstuvwy\n",
      "h: abcdefghijklmnopqrstuvwyz\n",
      "i: abcdefghiklmnopqrstuvwxz\n",
      "j: aeilou\n",
      "k: abcdefghijlmnoprstuwy\n",
      "l: abcdefghiklmnopqrstuvwy\n",
      "m: abcdefghijklmnoprstuvwy\n",
      "n: abcdefghijklmnopqrstuvwy\n",
      "o: abcdefghijklmnopqrstuvwxyz\n",
      "p: abcdefghiklmnoprstuwy\n",
      "q: u\n",
      "r: abcdefghijklmnopqrstuvwyz\n",
      "s: abcdefghijklmnopqrstuvwy\n",
      "t: abcdefghijklmnopqrstuvwxyz\n",
      "u: abcdefghilmnopqrstwxyz\n",
      "v: aeilouy\n",
      "w: abcdefghiklmnoprstuvwy\n",
      "x: abcdefhimnoprstuwy\n",
      "y: abcdefghijklmnopqrstuvwy\n",
      "z: aceilouyz\n"
     ]
    }
   ],
   "source": [
    "from itertools import tee\n",
    "from collections import defaultdict\n",
    "\n",
    "d = defaultdict(set)\n",
    "\n",
    "with open('../data/gulliver.txt') as f:\n",
    "    lines = map(str.lower, f)\n",
    "    for line in lines: # read line by line\n",
    "        letters = filter(str.isalpha, line) # filter out non-letters\n",
    "        letters, next_letters = tee(letters) # create two identical independent letters iterators\n",
    "        try:\n",
    "            next(next_letters) # next_letters should be one ahead of letters\n",
    "        except StopIteration:\n",
    "            continue # no letters, go to next line\n",
    "        for ltr, next_ltr in zip(letters, next_letters): # iterate over letters and non-letters\n",
    "            d[ltr].add(next_ltr)\n",
    "        \n",
    "# now to print the results\n",
    "for k,v in sorted(d.items()):\n",
    "    print('{0}: {1}'.format(k, str.join('', sorted(v))))"
   ]
  },
  {
   "cell_type": "markdown",
   "metadata": {},
   "source": [
    "## Exercise\n",
    "\n",
    "Now we want to keep track of the frequencies of the letters after each letter, not just their identiy.\n",
    "\n",
    "We can easily do this by using `collections.Counter` as the dictionary value instead of `set`.\n",
    "\n",
    "Change the code to implement this change:"
   ]
  },
  {
   "cell_type": "code",
   "execution_count": 125,
   "metadata": {
    "collapsed": false
   },
   "outputs": [],
   "source": [
    "from itertools import tee\n",
    "from collections import defaultdict\n",
    "\n",
    "d = defaultdict(set)\n",
    "\n",
    "with open('../data/gulliver.txt') as f:\n",
    "    lines = map(str.lower, f)\n",
    "    for line in lines: # read line by line\n",
    "        letters = filter(str.isalpha, line) # filter out non-letters\n",
    "        letters, next_letters = tee(letters) # create two identical independent letters iterators\n",
    "        try:\n",
    "            next(next_letters) # next_letters should be one ahead of letters\n",
    "        except StopIteration:\n",
    "            continue # no letters, go to next line\n",
    "        for ltr, next_ltr in zip(letters, next_letters): # iterate over letters and non-letters\n",
    "            d[ltr].add(next_ltr)\n",
    "        \n",
    "# now to print the results\n",
    "for k,v in sorted(d.items()):\n",
    "    print('{0}: {1}'.format(k, str.join('', sorted(v))))"
   ]
  },
  {
   "cell_type": "code",
   "execution_count": 126,
   "metadata": {
    "collapsed": false,
    "scrolled": true
   },
   "outputs": [
    {
     "name": "stdout",
     "output_type": "stream",
     "text": [
      " a \n",
      "---\n",
      "a: 22 | b: 608 | c: 711 | d: 984 | e: 8 | f: 290 | g: 463 | h: 78 | i: 669 | j: 146 | k: 244 | l: 1598 | m: 524 | n: 3816 | o: 13 | p: 547 | q: 5 | r: 1946 | s: 2063 | t: 2507 | u: 185 | v: 520 | w: 191 | x: 14 | y: 327 | z: 13 | \n",
      " b \n",
      "---\n",
      "a: 173 | b: 19 | c: 1 | d: 9 | e: 1165 | h: 3 | i: 161 | j: 32 | l: 488 | m: 8 | n: 3 | o: 583 | p: 3 | r: 175 | s: 127 | t: 18 | u: 418 | v: 3 | w: 2 | y: 480 | \n",
      " c \n",
      "---\n",
      "a: 592 | b: 2 | c: 143 | d: 8 | e: 1170 | g: 2 | h: 1237 | i: 272 | k: 282 | l: 286 | m: 5 | n: 6 | o: 1445 | p: 5 | q: 7 | r: 242 | s: 26 | t: 526 | u: 273 | w: 28 | y: 27 | \n",
      " d \n",
      "---\n",
      "a: 997 | b: 432 | c: 150 | d: 209 | e: 1482 | f: 257 | g: 140 | h: 325 | i: 1334 | j: 13 | k: 28 | l: 202 | m: 393 | n: 203 | o: 761 | p: 149 | q: 16 | r: 341 | s: 656 | t: 1131 | u: 213 | v: 85 | w: 353 | y: 127 | \n",
      " e \n",
      "---\n",
      "a: 2718 | b: 436 | c: 1160 | d: 2809 | e: 1184 | f: 776 | g: 376 | h: 483 | i: 1153 | j: 22 | k: 144 | l: 1114 | m: 1216 | n: 2858 | o: 864 | p: 618 | q: 123 | r: 4381 | s: 2907 | t: 1936 | u: 198 | v: 472 | w: 858 | x: 285 | y: 404 | z: 7 | \n",
      " f \n",
      "---\n",
      "a: 575 | b: 76 | c: 49 | d: 44 | e: 506 | f: 240 | g: 32 | h: 179 | i: 547 | j: 13 | k: 2 | l: 170 | m: 235 | n: 25 | o: 1155 | p: 56 | q: 8 | r: 382 | s: 97 | t: 1005 | u: 193 | v: 17 | w: 88 | y: 51 | \n",
      " g \n",
      "---\n",
      "a: 446 | b: 48 | c: 31 | d: 58 | e: 711 | f: 50 | g: 51 | h: 689 | i: 324 | j: 2 | k: 1 | l: 215 | m: 90 | n: 146 | o: 354 | p: 42 | q: 2 | r: 459 | s: 162 | t: 341 | u: 285 | v: 14 | w: 88 | y: 15 | \n",
      " h \n",
      "---\n",
      "a: 2282 | b: 62 | c: 56 | d: 36 | e: 6061 | f: 64 | g: 38 | h: 134 | i: 2322 | j: 4 | k: 6 | l: 27 | m: 146 | n: 29 | o: 1354 | p: 53 | q: 3 | r: 204 | s: 122 | t: 683 | u: 199 | v: 9 | w: 163 | y: 25 | z: 3 | \n",
      " i \n",
      "---\n",
      "a: 285 | b: 178 | c: 1172 | d: 555 | e: 632 | f: 403 | g: 603 | h: 221 | i: 50 | k: 99 | l: 780 | m: 711 | n: 4167 | o: 908 | p: 201 | q: 8 | r: 825 | s: 1908 | t: 2015 | u: 23 | v: 512 | w: 243 | x: 93 | z: 48 | \n",
      " j \n",
      "---\n",
      "a: 9 | e: 289 | i: 1 | l: 1 | o: 57 | u: 80 | \n",
      " k \n",
      "---\n",
      "a: 76 | b: 15 | c: 13 | d: 3 | e: 495 | f: 19 | g: 5 | h: 10 | i: 333 | j: 1 | l: 17 | m: 43 | n: 112 | o: 66 | p: 6 | r: 2 | s: 141 | t: 58 | u: 16 | w: 35 | y: 18 | \n",
      " l \n",
      "---\n",
      "a: 940 | b: 45 | c: 121 | d: 787 | e: 1791 | f: 200 | g: 37 | h: 40 | i: 1194 | k: 79 | l: 1208 | m: 118 | n: 33 | o: 675 | p: 93 | q: 4 | r: 39 | s: 219 | t: 322 | u: 274 | v: 66 | w: 124 | y: 618 | \n",
      " m \n",
      "---\n",
      "a: 1206 | b: 200 | c: 22 | d: 61 | e: 1855 | f: 40 | g: 10 | h: 39 | i: 606 | j: 4 | k: 6 | l: 18 | m: 169 | n: 24 | o: 621 | p: 423 | r: 25 | s: 151 | t: 187 | u: 190 | v: 8 | w: 80 | y: 950 | \n",
      " n \n",
      "---\n",
      "a: 869 | b: 239 | c: 746 | d: 3297 | e: 1358 | f: 224 | g: 1856 | h: 261 | i: 816 | j: 35 | k: 97 | l: 169 | m: 280 | n: 146 | o: 1049 | p: 93 | q: 13 | r: 44 | s: 873 | t: 2529 | u: 174 | v: 86 | w: 194 | y: 254 | \n",
      " o \n",
      "---\n",
      "a: 308 | b: 366 | c: 270 | d: 387 | e: 91 | f: 2238 | g: 138 | h: 197 | i: 183 | j: 97 | k: 235 | l: 601 | m: 1141 | n: 2739 | o: 649 | p: 505 | q: 4 | r: 2451 | s: 697 | t: 1246 | u: 2415 | v: 315 | w: 803 | x: 52 | y: 137 | z: 12 | \n",
      " p \n",
      "---\n",
      "a: 592 | b: 15 | c: 1 | d: 2 | e: 905 | f: 5 | g: 7 | h: 70 | i: 303 | k: 1 | l: 392 | m: 18 | n: 5 | o: 664 | p: 246 | r: 749 | s: 72 | t: 260 | u: 260 | w: 41 | y: 45 | \n",
      " q \n",
      "---\n",
      "u: 267 | \n",
      " r \n",
      "---\n",
      "a: 1310 | b: 177 | c: 337 | d: 583 | e: 3459 | f: 180 | g: 319 | h: 175 | i: 1283 | j: 22 | k: 189 | l: 194 | m: 441 | n: 287 | o: 1568 | p: 158 | q: 6 | r: 258 | s: 1062 | t: 1330 | u: 202 | v: 203 | w: 267 | y: 520 | z: 1 | \n",
      " s \n",
      "---\n",
      "a: 1354 | b: 218 | c: 466 | d: 102 | e: 1997 | f: 273 | g: 71 | h: 895 | i: 1233 | j: 11 | k: 77 | l: 228 | m: 353 | n: 139 | o: 1372 | p: 440 | q: 39 | r: 107 | s: 775 | t: 2752 | u: 441 | v: 50 | w: 542 | y: 38 | \n",
      " t \n",
      "---\n",
      "a: 1312 | b: 215 | c: 255 | d: 109 | e: 1906 | f: 218 | g: 106 | h: 7477 | i: 2027 | j: 10 | k: 14 | l: 364 | m: 382 | n: 101 | o: 2833 | p: 162 | q: 12 | r: 936 | s: 745 | t: 1085 | u: 440 | v: 25 | w: 642 | x: 1 | y: 558 | z: 1 | \n",
      " u \n",
      "---\n",
      "a: 228 | b: 123 | c: 283 | d: 145 | e: 225 | f: 39 | g: 272 | h: 16 | i: 133 | l: 766 | m: 225 | n: 885 | o: 12 | p: 441 | q: 1 | r: 991 | s: 849 | t: 1203 | w: 18 | x: 1 | y: 5 | z: 2 | \n",
      " v \n",
      "---\n",
      "a: 167 | e: 1761 | i: 358 | l: 1 | o: 135 | u: 6 | y: 6 | \n",
      " w \n",
      "---\n",
      "a: 1129 | b: 14 | c: 12 | d: 20 | e: 864 | f: 9 | g: 16 | h: 1202 | i: 883 | k: 1 | l: 27 | m: 43 | n: 248 | o: 583 | p: 22 | r: 34 | s: 97 | t: 59 | u: 14 | v: 3 | w: 58 | y: 3 | \n",
      " x \n",
      "---\n",
      "a: 48 | b: 6 | c: 56 | d: 4 | e: 56 | f: 7 | h: 8 | i: 35 | m: 1 | n: 1 | o: 10 | p: 76 | r: 4 | s: 2 | t: 109 | u: 3 | w: 9 | y: 1 | \n",
      " y \n",
      "---\n",
      "a: 503 | b: 182 | c: 220 | d: 136 | e: 202 | f: 178 | g: 70 | h: 221 | i: 175 | j: 9 | k: 18 | l: 135 | m: 205 | n: 49 | o: 531 | p: 150 | q: 4 | r: 101 | s: 472 | t: 442 | u: 41 | v: 34 | w: 229 | y: 12 | \n",
      " z \n",
      "---\n",
      "a: 9 | c: 1 | e: 63 | i: 9 | l: 1 | o: 3 | u: 1 | y: 1 | z: 6 | \n"
     ]
    }
   ],
   "source": [
    "# now to print the results\n",
    "for k1,c in sorted(d.items()):\n",
    "    print(' {} \\n---'.format(k1))\n",
    "    for k2,v in sorted(c.items()):\n",
    "        print('{}: {}'.format(k2, v), end=' | ')\n",
    "    print()"
   ]
  },
  {
   "cell_type": "markdown",
   "metadata": {},
   "source": [
    "## `deque`\n",
    "\n",
    "[Deques](https://docs.python.org/3.5/library/collections.html#collections.deque) are a **generalization of stacks and queues** (the name is pronounced “deck” and is short for “double-ended queue”). Deques support thread-safe, memory efficient **appends and pops from either side** of the deque with approximately the same **O(1) performance** in either direction. Though `list` objects support similar operations, they are optimized for fast fixed-length operations and incur O(n) memory movement costs for `pop(0)` and `insert(0, v)` operations which change both the size and position of the underlying data representation."
   ]
  },
  {
   "cell_type": "code",
   "execution_count": 36,
   "metadata": {
    "collapsed": true
   },
   "outputs": [],
   "source": [
    "from collections import deque\n",
    "\n",
    "lst = [range(100000)]\n",
    "deck = deque([range(100000)])"
   ]
  },
  {
   "cell_type": "code",
   "execution_count": 37,
   "metadata": {
    "collapsed": false
   },
   "outputs": [
    {
     "name": "stdout",
     "output_type": "stream",
     "text": [
      "76 ns ± 5.14 ns per loop (mean ± std. dev. of 7 runs, 10000000 loops each)\n",
      "83.8 ms ± 9.9 ms per loop (mean ± std. dev. of 7 runs, 10 loops each)\n"
     ]
    }
   ],
   "source": [
    "%timeit lst.append(1)\n",
    "%timeit lst.insert(0, 1)"
   ]
  },
  {
   "cell_type": "code",
   "execution_count": 38,
   "metadata": {
    "collapsed": false
   },
   "outputs": [
    {
     "name": "stdout",
     "output_type": "stream",
     "text": [
      "92.8 ns ± 11.4 ns per loop (mean ± std. dev. of 7 runs, 10000000 loops each)\n",
      "87 ns ± 2.82 ns per loop (mean ± std. dev. of 7 runs, 10000000 loops each)\n"
     ]
    }
   ],
   "source": [
    "%timeit deck.append(1)\n",
    "%timeit deck.appendleft(1)"
   ]
  },
  {
   "cell_type": "markdown",
   "metadata": {},
   "source": [
    "Since deques can be appended and poped from both sides, they are great for communication between threads, and deque is also thread-safe."
   ]
  },
  {
   "cell_type": "markdown",
   "metadata": {},
   "source": [
    "## Example\n",
    "\n",
    "Bounded length deques provide functionality similar to the tail filter in Unix:"
   ]
  },
  {
   "cell_type": "code",
   "execution_count": 39,
   "metadata": {
    "collapsed": true
   },
   "outputs": [],
   "source": [
    "def tail(filename, n=10):    \n",
    "    with open(filename) as f:\n",
    "        return deque(f, maxlen=n)"
   ]
  },
  {
   "cell_type": "code",
   "execution_count": 41,
   "metadata": {
    "collapsed": false
   },
   "outputs": [
    {
     "name": "stdout",
     "output_type": "stream",
     "text": [
      "63.0\n",
      "12.0\n",
      "29.0\n",
      "48.0\n",
      "297.0\n",
      "50.0\n",
      "68.0\n",
      "26.0\n",
      "161.0\n",
      "14.0\n"
     ]
    }
   ],
   "source": [
    "last10 = tail('../data/heart.csv', n=10)\n",
    "for line in last10:\n",
    "    print(line, end='')"
   ]
  },
  {
   "cell_type": "markdown",
   "metadata": {},
   "source": [
    "# Future statements\n",
    "\n",
    "A [future statement](https://docs.python.org/3.5/reference/simple_stmts.html#future) facilitates migration to future versions of Python that introduce **incompatible changes** to the language. It allows use of the new features on a per-request basis before the release in which the feature becomes standard. \n",
    "\n",
    "A future statement must appear near the top of the module.\n",
    "\n",
    "When working with Python 3.5, no future statements are needed. However, if you wish to allow the code to run with Python 2.x, future statements are very useful. For example, for using `print` as a function (`print(x)`) rather than a statement (`print x`), you can use `from __future__ import print_function`:"
   ]
  },
  {
   "cell_type": "code",
   "execution_count": 42,
   "metadata": {
    "collapsed": false
   },
   "outputs": [
    {
     "name": "stdout",
     "output_type": "stream",
     "text": [
      "Hello World!\n"
     ]
    }
   ],
   "source": [
    "from __future__ import print_function\n",
    "print('Hello World!')"
   ]
  },
  {
   "cell_type": "markdown",
   "metadata": {},
   "source": [
    "If you really want to support Python 2, I suggest using [_python-future_](http://python-future.org/): it allows you to use a single, clean Python 3.x-compatible codebase to support both Python 2 and Python 3 with minimal overhead."
   ]
  },
  {
   "cell_type": "markdown",
   "metadata": {},
   "source": [
    "## Exercise\n",
    "\n",
    "The _curly brace delimited blocks_ feature was requested several times by users coming from other programming languages.\n",
    "\n",
    "Use the future statement `braces` to run `fast_pow` written with curly brackets to compute $5^{17}$."
   ]
  },
  {
   "cell_type": "code",
   "execution_count": null,
   "metadata": {
    "collapsed": false
   },
   "outputs": [],
   "source": []
  },
  {
   "cell_type": "code",
   "execution_count": null,
   "metadata": {
    "collapsed": false
   },
   "outputs": [],
   "source": [
    "def fast_pow(x, y) {\n",
    "    if y == 0 {\n",
    "        return 1\n",
    "    } elif y % 2 == 0 {\n",
    "        tmp = fast_pow(x, y // 2)\n",
    "        return tmp * tmp\n",
    "    } else {\n",
    "        return x * fast_pow(x, y - 1)\n",
    "    }\n",
    "}\n",
    "print(\"5^17 =\", fast_pow(5, 17))"
   ]
  },
  {
   "cell_type": "markdown",
   "metadata": {},
   "source": [
    "# References\n",
    "- Some code and ideas were taken from [Code like a Pythonista](http://python.net/~goodger/projects/pycon/2007/idiomatic/presentation.html)\n",
    "- [Decorators I: Introduction to Python Decorators](http://www.artima.com/weblogs/viewpost.jsp?thread=240808)\n",
    "- [Python syntax and semantics](https://en.wikipedia.org/wiki/Python_syntax_and_semantics) on Wikipedia\n",
    "- The [Collections module](https://docs.python.org/3.5/library/collections.html) implements specialized container datatypes providing alternatives to Python’s general purpose built-in containers."
   ]
  },
  {
   "cell_type": "markdown",
   "metadata": {},
   "source": [
    "## Colophon\n",
    "This notebook was written by [Yoav Ram](http://python.yoavram.com) and is part of the [_Python for Engineers_](https://github.com/yoavram/Py4Eng) course.\n",
    "\n",
    "The notebook was written using [Python](http://python.org/) 3.6.1.\n",
    "Dependencies listed in [environment.yml](../environment.yml), full versions in [environment_full.yml](../environment_full.yml).\n",
    "\n",
    "This work is licensed under a CC BY-NC-SA 4.0 International License.\n",
    "\n",
    "![Python logo](https://www.python.org/static/community_logos/python-logo.png)"
   ]
  }
 ],
 "metadata": {
  "kernelspec": {
   "display_name": "Python [default]",
   "language": "python",
   "name": "python3"
  },
  "language_info": {
   "codemirror_mode": {
    "name": "ipython",
    "version": 3
   },
   "file_extension": ".py",
   "mimetype": "text/x-python",
   "name": "python",
   "nbconvert_exporter": "python",
   "pygments_lexer": "ipython3",
   "version": "3.6.5"
  }
 },
 "nbformat": 4,
 "nbformat_minor": 2
}
