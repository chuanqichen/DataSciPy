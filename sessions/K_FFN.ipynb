{
 "cells": [
  {
   "cell_type": "markdown",
   "metadata": {},
   "source": [
    "![Py4Eng](img/logo.png)\n",
    "\n",
    "# Feed Forward Network with Keras\n",
    "## Yoav Ram\n",
    "\n",
    "In this session we will understand:\n",
    "- what is Keras\n",
    "- how to use Keras to construct and train a feed forward networks\n",
    "- how to save trained models and then load them to re-train or predict with them"
   ]
  },
  {
   "cell_type": "markdown",
   "metadata": {},
   "source": [
    "# Keras\n",
    "\n",
    "[Keras](https://keras.io/) is a high-level neural networks API, written in Python and capable of running on top of TensorFlow, [CNTK](https://docs.microsoft.com/en-us/cognitive-toolkit/) (MS deep learning package), or [Theano](http://www.deeplearning.net/software/theano/).\n",
    "\n",
    "The main benefit is that it *allows for easy and fast prototyping*.\n",
    "\n",
    "Since version 1.4 of TensorFlow, Keras is installed with TensorFlow as a high-level interface to TensorFlow."
   ]
  },
  {
   "cell_type": "markdown",
   "metadata": {},
   "source": [
    "# TensorFlow\n",
    "\n",
    "[TensorFlow™](https://www.tensorflow.org/) is an **open source** software library for **numerical computation** using **data flow graphs**. **Nodes** in the graph represent **mathematical operations**, while the graph **edges** represent the multidimensional **data arrays** (tensors) communicated between them. \n",
    "\n",
    "The flexible architecture allows you to **deploy** computation to one or more **CPUs** or **GPUs** in a **desktop, server, mobile device, or cluster**, with a single API. \n",
    "\n",
    "TensorFlow is developed by researchers and engineers working on the **Google Brain Team** within **Google's Machine Intelligence research organization** for the purposes of conducting **machine learning and deep neural networks research**, but the system is general enough to be applicable in a wide variety of other domains as well.\n",
    "\n",
    "TensorFlow is installed with Anaconda."
   ]
  },
  {
   "cell_type": "code",
   "execution_count": 1,
   "metadata": {},
   "outputs": [
    {
     "name": "stdout",
     "output_type": "stream",
     "text": [
      "Keras 2.3.1\n",
      "GPU: False\n",
      "\n"
     ]
    },
    {
     "name": "stderr",
     "output_type": "stream",
     "text": [
      "Using TensorFlow backend.\n"
     ]
    }
   ],
   "source": [
    "import warnings\n",
    "warnings.simplefilter('ignore', FutureWarning)\n",
    "\n",
    "%matplotlib inline\n",
    "import matplotlib.pyplot as plt\n",
    "import numpy as np\n",
    "import seaborn as sns\n",
    "import pickle\n",
    "import tensorflow as tf\n",
    "try:\n",
    "    import keras\n",
    "except ModuleNotFoundError:\n",
    "    from tensorflow import keras\n",
    "\n",
    "print('Keras', keras.__version__)\n",
    "print('GPU:', tf.test.is_gpu_available())\n",
    "print(tf.test.gpu_device_name())\n",
    "\n",
    "sns.set(\n",
    "    style='ticks',\n",
    "    context='talk',\n",
    "    palette='Set1'\n",
    ")"
   ]
  },
  {
   "cell_type": "markdown",
   "metadata": {},
   "source": [
    "# Classifiying images\n",
    "\n",
    "Let's use Keras for the [softmax](softmax-model.ipynb) and [FFN](FFN.ipynb) models we developed previously.\n",
    "\n",
    "We use Keras' datasets module to load the data:"
   ]
  },
  {
   "cell_type": "code",
   "execution_count": 2,
   "metadata": {},
   "outputs": [],
   "source": [
    "(X_train, Y_train), (X_test, Y_test) = keras.datasets.mnist.load_data()"
   ]
  },
  {
   "cell_type": "code",
   "execution_count": 3,
   "metadata": {},
   "outputs": [],
   "source": [
    "nsamples, width, height = X_train.shape\n",
    "nfeatures = width * height\n",
    "X_train = X_train/255\n",
    "X_test = X_test/255"
   ]
  },
  {
   "cell_type": "markdown",
   "metadata": {},
   "source": [
    "That last step of normalizing the data to be floats between 0 and 1 (it's originally betweeen 0 and 255 in integers) is crucial, although you could probably instead just change how the weights of the network are initialized.\n",
    "\n",
    "Now let's do one-hot encoding of the labels:"
   ]
  },
  {
   "cell_type": "code",
   "execution_count": 20,
   "metadata": {},
   "outputs": [],
   "source": [
    "Y_train = keras.utils.to_categorical(Y_train)\n",
    "Y_test = keras.utils.to_categorical(Y_test)\n",
    "ncats = Y_test.shape[1]"
   ]
  },
  {
   "cell_type": "markdown",
   "metadata": {},
   "source": [
    "The images are 1D arrays of length 28x28=784; the labels are one-hot encodes numbers between 0 and 9:"
   ]
  },
  {
   "cell_type": "code",
   "execution_count": 21,
   "metadata": {},
   "outputs": [
    {
     "data": {
      "image/png": "[encoded data removed]",
      "text/plain": [
       "<Figure size 432x288 with 1 Axes>"
      ]
     },
     "metadata": {
      "image/png": {
       "height": 235,
       "width": 235
      }
     },
     "output_type": "display_data"
    }
   ],
   "source": [
    "def display_image(im):\n",
    "    plt.imshow(im, cmap='gray_r')\n",
    "    plt.xticks([])\n",
    "    plt.yticks([])\n",
    "    \n",
    "display_image(X_train[4])"
   ]
  },
  {
   "cell_type": "markdown",
   "metadata": {},
   "source": [
    "# Softmax model\n",
    "\n",
    "A Keras model can be built by defining the model layers, then giving them to the `Sequential` model object.\n",
    "You could also first create the model object and the use its `add` method to add layers.\n",
    "\n",
    "A `Dense` layer uses matrix muliplication. We need to provide it with the number of outputs, in this case the number of categories, and the activation function, in this case the softmax function.\n",
    "\n",
    "A `Flatten` layer just flatten the input data - turns it into a 1D array.\n",
    "The first layer always has to be told the shape of the input (`X`)."
   ]
  },
  {
   "cell_type": "code",
   "execution_count": 22,
   "metadata": {},
   "outputs": [
    {
     "name": "stdout",
     "output_type": "stream",
     "text": [
      "_________________________________________________________________\n",
      "Layer (type)                 Output Shape              Param #   \n",
      "=================================================================\n",
      "flatten (Flatten)            (None, 784)               0         \n",
      "_________________________________________________________________\n",
      "dense (Dense)                (None, 10)                7850      \n",
      "=================================================================\n",
      "Total params: 7,850\n",
      "Trainable params: 7,850\n",
      "Non-trainable params: 0\n",
      "_________________________________________________________________\n"
     ]
    }
   ],
   "source": [
    "layers = [\n",
    "    keras.layers.Flatten(input_shape=(width, height)),\n",
    "    keras.layers.Dense(ncats, activation='softmax')\n",
    "]\n",
    "model = keras.models.Sequential(layers)\n",
    "model.summary()"
   ]
  },
  {
   "cell_type": "markdown",
   "metadata": {},
   "source": [
    "Next, we need to compile the Keras model, configuring it for training."
   ]
  },
  {
   "cell_type": "code",
   "execution_count": 23,
   "metadata": {},
   "outputs": [],
   "source": [
    "model.compile(\n",
    "    loss='categorical_crossentropy', \n",
    "    optimizer='sgd',\n",
    "    metrics=['accuracy']\n",
    ")"
   ]
  },
  {
   "cell_type": "markdown",
   "metadata": {},
   "source": [
    "Finally, we can train or fit the model. "
   ]
  },
  {
   "cell_type": "code",
   "execution_count": 15,
   "metadata": {},
   "outputs": [
    {
     "name": "stdout",
     "output_type": "stream",
     "text": [
      "Train on 60000 samples, validate on 10000 samples\n",
      "Epoch 1/30\n",
      "60000/60000 [==============================]60000/60000 [==============================] - 2s 31us/step - loss: 0.9175 - acc: 0.7856 - val_loss: 0.5561 - val_acc: 0.8697\n",
      "\n",
      "Epoch 2/30\n",
      "60000/60000 [==============================]60000/60000 [==============================] - 2s 26us/step - loss: 0.5173 - acc: 0.8705 - val_loss: 0.4488 - val_acc: 0.8868\n",
      "\n",
      "Epoch 3/30\n",
      "60000/60000 [==============================]60000/60000 [==============================] - 2s 27us/step - loss: 0.4473 - acc: 0.8832 - val_loss: 0.4049 - val_acc: 0.8959\n",
      "\n",
      "Epoch 4/30\n",
      "60000/60000 [==============================]60000/60000 [==============================] - 2s 27us/step - loss: 0.4128 - acc: 0.8903 - val_loss: 0.3802 - val_acc: 0.9010\n",
      "\n",
      "Epoch 5/30\n",
      "60000/60000 [==============================]60000/60000 [==============================] - 2s 27us/step - loss: 0.3913 - acc: 0.8944 - val_loss: 0.3637 - val_acc: 0.9038\n",
      "\n",
      "Epoch 6/30\n",
      "60000/60000 [==============================]60000/60000 [==============================] - 2s 28us/step - loss: 0.3763 - acc: 0.8974 - val_loss: 0.3522 - val_acc: 0.9064\n",
      "\n",
      "Epoch 7/30\n",
      "60000/60000 [==============================]60000/60000 [==============================] - 2s 27us/step - loss: 0.3650 - acc: 0.8998 - val_loss: 0.3436 - val_acc: 0.9074\n",
      "\n",
      "Epoch 8/30\n",
      "60000/60000 [==============================]60000/60000 [==============================] - 2s 30us/step - loss: 0.3561 - acc: 0.9017 - val_loss: 0.3354 - val_acc: 0.9096\n",
      "\n",
      "Epoch 9/30\n",
      "60000/60000 [==============================]60000/60000 [==============================] - 2s 25us/step - loss: 0.3488 - acc: 0.9036 - val_loss: 0.3300 - val_acc: 0.9118\n",
      "\n",
      "Epoch 10/30\n",
      "60000/60000 [==============================]60000/60000 [==============================] - 2s 25us/step - loss: 0.3427 - acc: 0.9049 - val_loss: 0.3240 - val_acc: 0.9130\n",
      "\n",
      "Epoch 11/30\n",
      "60000/60000 [==============================]60000/60000 [==============================] - 2s 25us/step - loss: 0.3375 - acc: 0.9062 - val_loss: 0.3198 - val_acc: 0.9142\n",
      "\n",
      "Epoch 12/30\n",
      "60000/60000 [==============================]60000/60000 [==============================] - 2s 27us/step - loss: 0.3329 - acc: 0.9079 - val_loss: 0.3166 - val_acc: 0.9137\n",
      "\n",
      "Epoch 13/30\n",
      "60000/60000 [==============================]60000/60000 [==============================] - 2s 27us/step - loss: 0.3288 - acc: 0.9086 - val_loss: 0.3131 - val_acc: 0.9152\n",
      "\n",
      "Epoch 14/30\n",
      "60000/60000 [==============================]60000/60000 [==============================] - 2s 29us/step - loss: 0.3254 - acc: 0.9098 - val_loss: 0.3105 - val_acc: 0.9150\n",
      "\n",
      "Epoch 15/30\n",
      "60000/60000 [==============================]60000/60000 [==============================] - 2s 27us/step - loss: 0.3222 - acc: 0.9107 - val_loss: 0.3083 - val_acc: 0.9157\n",
      "\n",
      "Epoch 16/30\n",
      "60000/60000 [==============================]60000/60000 [==============================] - 2s 27us/step - loss: 0.3193 - acc: 0.9113 - val_loss: 0.3059 - val_acc: 0.9157\n",
      "\n",
      "Epoch 17/30\n",
      "60000/60000 [==============================]60000/60000 [==============================] - 2s 27us/step - loss: 0.3167 - acc: 0.9124 - val_loss: 0.3037 - val_acc: 0.9168\n",
      "\n",
      "Epoch 18/30\n",
      "60000/60000 [==============================]60000/60000 [==============================] - 2s 28us/step - loss: 0.3144 - acc: 0.9127 - val_loss: 0.3015 - val_acc: 0.9170\n",
      "\n",
      "Epoch 19/30\n",
      "60000/60000 [==============================]60000/60000 [==============================] - 2s 36us/step - loss: 0.3121 - acc: 0.9135 - val_loss: 0.3001 - val_acc: 0.9174\n",
      "\n",
      "Epoch 20/30\n",
      "60000/60000 [==============================]60000/60000 [==============================] - 2s 28us/step - loss: 0.3101 - acc: 0.9141 - val_loss: 0.2984 - val_acc: 0.9178\n",
      "\n",
      "Epoch 21/30\n",
      "60000/60000 [==============================]60000/60000 [==============================] - 2s 27us/step - loss: 0.3082 - acc: 0.9143 - val_loss: 0.2980 - val_acc: 0.9177\n",
      "\n",
      "Epoch 22/30\n",
      "60000/60000 [==============================]60000/60000 [==============================] - 2s 27us/step - loss: 0.3065 - acc: 0.9148 - val_loss: 0.2960 - val_acc: 0.9175\n",
      "\n",
      "Epoch 23/30\n",
      "60000/60000 [==============================]60000/60000 [==============================] - 2s 29us/step - loss: 0.3049 - acc: 0.9155 - val_loss: 0.2948 - val_acc: 0.9191\n",
      "\n",
      "Epoch 24/30\n",
      "60000/60000 [==============================]60000/60000 [==============================] - 2s 30us/step - loss: 0.3032 - acc: 0.9157 - val_loss: 0.2938 - val_acc: 0.9184\n",
      "\n",
      "Epoch 25/30\n",
      "60000/60000 [==============================]60000/60000 [==============================] - 2s 28us/step - loss: 0.3019 - acc: 0.9160 - val_loss: 0.2925 - val_acc: 0.9184\n",
      "\n",
      "Epoch 26/30\n",
      "60000/60000 [==============================]60000/60000 [==============================] - 2s 29us/step - loss: 0.3005 - acc: 0.9163 - val_loss: 0.2914 - val_acc: 0.9195\n",
      "\n",
      "Epoch 27/30\n",
      "60000/60000 [==============================]60000/60000 [==============================] - 2s 26us/step - loss: 0.2992 - acc: 0.9167 - val_loss: 0.2908 - val_acc: 0.9203\n",
      "\n",
      "Epoch 28/30\n",
      "60000/60000 [==============================]60000/60000 [==============================] - 2s 27us/step - loss: 0.2980 - acc: 0.9172 - val_loss: 0.2894 - val_acc: 0.9203\n",
      "\n",
      "Epoch 29/30\n",
      "60000/60000 [==============================]60000/60000 [==============================] - 2s 28us/step - loss: 0.2968 - acc: 0.9175 - val_loss: 0.2889 - val_acc: 0.9202\n",
      "\n",
      "Epoch 30/30\n",
      "60000/60000 [==============================]60000/60000 [==============================] - 2s 29us/step - loss: 0.2957 - acc: 0.9176 - val_loss: 0.2883 - val_acc: 0.9201\n",
      "\n"
     ]
    }
   ],
   "source": [
    "history = model.fit(\n",
    "    X_train, Y_train,\n",
    "    batch_size=50,\n",
    "    epochs=30,\n",
    "    validation_data=(X_test, Y_test)\n",
    ").history"
   ]
  },
  {
   "cell_type": "markdown",
   "metadata": {},
   "source": [
    "Save the model and the training history:"
   ]
  },
  {
   "cell_type": "code",
   "execution_count": 16,
   "metadata": {},
   "outputs": [],
   "source": [
    "model.save('../data/keras_ffn_model.h5')\n",
    "with open(\"../data/keras_ffn_history.p\", \"wb\") as f:\n",
    "    pickle.dump(history, f)"
   ]
  },
  {
   "cell_type": "markdown",
   "metadata": {},
   "source": [
    "Load the model and the history:"
   ]
  },
  {
   "cell_type": "code",
   "execution_count": 25,
   "metadata": {},
   "outputs": [],
   "source": [
    "model = keras.models.load_model('../data/keras_ffn_model.h5')\n",
    "with open(\"../data/keras_ffn_history.p\", \"rb\") as f:\n",
    "    history = pickle.load(f)"
   ]
  },
  {
   "cell_type": "markdown",
   "metadata": {},
   "source": [
    "Plot the history:"
   ]
  },
  {
   "cell_type": "code",
   "execution_count": 26,
   "metadata": {},
   "outputs": [
    {
     "data": {
      "image/png": "[encoded data removed]",
      "text/plain": [
       "<Figure size 432x288 with 1 Axes>"
      ]
     },
     "metadata": {
      "image/png": {
       "height": 261,
       "width": 393
      },
      "needs_background": "light"
     },
     "output_type": "display_data"
    }
   ],
   "source": [
    "def plot_history(history):\n",
    "    plt.plot(history['acc'], label='train')\n",
    "    plt.plot(history['val_acc'], label='test')\n",
    "    plt.xlabel('epoch')\n",
    "    plt.ylabel('accuracy')\n",
    "    plt.legend()\n",
    "\n",
    "plot_history(history)"
   ]
  },
  {
   "cell_type": "markdown",
   "metadata": {},
   "source": [
    "# Exercise: Feed forward with one hidden layer\n",
    "\n",
    "Let's add a hidden layer so that we have:\n",
    "$$\n",
    "\\mathbf{H} = ReLU(\\mathbf{X} \\cdot \\mathbf{W_1} + b_1) \\\\\n",
    "\\mathbf{\\widehat Y} = softmax(\\mathbf{H} \\cdot \\mathbf{W_2} + b_2) \\\\\n",
    "$$\n",
    "Create a new model, with an additional hidden layer, compile it, and fit it.\n",
    "Use the Adam optimizer instead of Stochastic Gradient Descent.\n",
    "\n",
    "Then save the history and the model to `../data/keras_ffn2_history.p` and `../data/keras_ffn2_model.h5`.\n",
    "\n",
    "A solution is given in `../solutions/K_FFN.py`."
   ]
  },
  {
   "cell_type": "code",
   "execution_count": null,
   "metadata": {},
   "outputs": [],
   "source": [
    "\n",
    "\n",
    "\n"
   ]
  },
  {
   "cell_type": "code",
   "execution_count": 7,
   "metadata": {},
   "outputs": [
    {
     "name": "stdout",
     "output_type": "stream",
     "text": [
      "WARNING:tensorflow:Error in loading the saved optimizer state. As a result, your model is starting with a freshly initialized optimizer.\n",
      "_________________________________________________________________\n",
      "Layer (type)                 Output Shape              Param #   \n",
      "=================================================================\n",
      "flatten_2 (Flatten)          (None, 784)               0         \n",
      "_________________________________________________________________\n",
      "dense_2 (Dense)              (None, 100)               78500     \n",
      "_________________________________________________________________\n",
      "dense_3 (Dense)              (None, 10)                1010      \n",
      "=================================================================\n",
      "Total params: 79,510\n",
      "Trainable params: 79,510\n",
      "Non-trainable params: 0\n",
      "_________________________________________________________________\n"
     ]
    }
   ],
   "source": [
    "model = keras.models.load_model('../data/keras_ffn2_model.h5')\n",
    "model.summary()"
   ]
  },
  {
   "cell_type": "code",
   "execution_count": 12,
   "metadata": {},
   "outputs": [
    {
     "name": "stdout",
     "output_type": "stream",
     "text": [
      "Finall test accuracy 0.9769\n"
     ]
    },
    {
     "data": {
      "image/png": "[encoded data removed]",
      "text/plain": [
       "<Figure size 432x288 with 1 Axes>"
      ]
     },
     "metadata": {
      "image/png": {
       "height": 261,
       "width": 391
      },
      "needs_background": "light"
     },
     "output_type": "display_data"
    }
   ],
   "source": [
    "with open(\"../data/keras_ffn2_history.p\", \"rb\") as f:\n",
    "    history = pickle.load(f)\n",
    "plot_history(history)\n",
    "print(\"Finall test accuracy {:.4f}\".format(history['val_acc'][-1]))"
   ]
  },
  {
   "cell_type": "markdown",
   "metadata": {},
   "source": [
    "# Convolutional neural network\n",
    "\n",
    "A convolutional neural networks replaces the density layers with convolutional layers that can efficiently extract local features from structured data such as images, audio, and digital signals. See [Stanford's CS231n](https://cs231n.github.io/convolutional-networks/) for a brief introduction and [Deep Learning by Ian Goodfellow and Yoshua Bengio and Aaron Courville](http://www.deeplearningbook.org), ch. 9, for a comprehensive introduction.\n",
    "\n",
    "We can easily implement convolutional networks, as well as many other networks, with Keras."
   ]
  },
  {
   "cell_type": "code",
   "execution_count": 27,
   "metadata": {},
   "outputs": [
    {
     "name": "stdout",
     "output_type": "stream",
     "text": [
      "_________________________________________________________________\n",
      "Layer (type)                 Output Shape              Param #   \n",
      "=================================================================\n",
      "reshape (Reshape)            (None, 28, 28, 1)         0         \n",
      "_________________________________________________________________\n",
      "conv2d (Conv2D)              (None, 24, 24, 32)        832       \n",
      "_________________________________________________________________\n",
      "max_pooling2d (MaxPooling2D) (None, 12, 12, 32)        0         \n",
      "_________________________________________________________________\n",
      "conv2d_1 (Conv2D)            (None, 8, 8, 64)          51264     \n",
      "_________________________________________________________________\n",
      "max_pooling2d_1 (MaxPooling2 (None, 4, 4, 64)          0         \n",
      "_________________________________________________________________\n",
      "flatten_1 (Flatten)          (None, 1024)              0         \n",
      "_________________________________________________________________\n",
      "dense_1 (Dense)              (None, 100)               102500    \n",
      "_________________________________________________________________\n",
      "dropout (Dropout)            (None, 100)               0         \n",
      "_________________________________________________________________\n",
      "dense_2 (Dense)              (None, 10)                1010      \n",
      "=================================================================\n",
      "Total params: 155,606\n",
      "Trainable params: 155,606\n",
      "Non-trainable params: 0\n",
      "_________________________________________________________________\n"
     ]
    }
   ],
   "source": [
    "layers = [\n",
    "    keras.layers.Reshape((width, height, 1), input_shape=(width, height)),\n",
    "    keras.layers.Conv2D(32, (5, 5), activation='relu'),\n",
    "    keras.layers.MaxPool2D(),\n",
    "    keras.layers.Conv2D(64, (5, 5), activation='relu'),\n",
    "    keras.layers.MaxPool2D(),\n",
    "    keras.layers.Flatten(),\n",
    "    keras.layers.Dense(100, activation='relu'),\n",
    "    keras.layers.Dropout(0.5),\n",
    "    keras.layers.Dense(10, activation='softmax')\n",
    "]\n",
    "model = keras.models.Sequential(layers)\n",
    "model.summary()"
   ]
  },
  {
   "cell_type": "code",
   "execution_count": 28,
   "metadata": {},
   "outputs": [],
   "source": [
    "model.compile(\n",
    "    loss='categorical_crossentropy', \n",
    "    optimizer='adam',\n",
    "    metrics=['accuracy']\n",
    ")"
   ]
  },
  {
   "cell_type": "code",
   "execution_count": 39,
   "metadata": {},
   "outputs": [
    {
     "name": "stdout",
     "output_type": "stream",
     "text": [
      "Train on 60000 samples, validate on 10000 samples\n",
      "Epoch 1/5\n",
      "60000/60000 [==============================]60000/60000 [==============================] - 40s 671us/step - loss: 0.2198 - acc: 0.9324 - val_loss: 0.0388 - val_acc: 0.9876\n",
      "\n",
      "Epoch 2/5\n",
      "60000/60000 [==============================]60000/60000 [==============================] - 41s 683us/step - loss: 0.0692 - acc: 0.9799 - val_loss: 0.0334 - val_acc: 0.9892\n",
      "\n",
      "Epoch 3/5\n",
      "60000/60000 [==============================]60000/60000 [==============================] - 38s 637us/step - loss: 0.0504 - acc: 0.9855 - val_loss: 0.0259 - val_acc: 0.9913\n",
      "\n",
      "Epoch 4/5\n",
      "60000/60000 [==============================]60000/60000 [==============================] - 42s 705us/step - loss: 0.0411 - acc: 0.9881 - val_loss: 0.0314 - val_acc: 0.9899\n",
      "\n",
      "Epoch 5/5\n",
      "60000/60000 [==============================]60000/60000 [==============================] - 42s 702us/step - loss: 0.0354 - acc: 0.9898 - val_loss: 0.0255 - val_acc: 0.9907\n",
      "\n"
     ]
    }
   ],
   "source": [
    "history = model.fit(\n",
    "    X_train, Y_train,\n",
    "    batch_size=50,\n",
    "    epochs=5,\n",
    "    verbose=1,\n",
    "    validation_data=(X_test, Y_test)\n",
    ").history"
   ]
  },
  {
   "cell_type": "markdown",
   "metadata": {},
   "source": [
    "Note that we get (slightly) better results than the single-hidden-layer FFN (99% vs 98% accuracy) at the cost of adding ~52,000 parameters to a model that already had ~100,000 parameters."
   ]
  },
  {
   "cell_type": "code",
   "execution_count": 40,
   "metadata": {},
   "outputs": [],
   "source": [
    "model.save('../data/keras_cnn_model.h5')"
   ]
  },
  {
   "cell_type": "code",
   "execution_count": 30,
   "metadata": {},
   "outputs": [
    {
     "name": "stdout",
     "output_type": "stream",
     "text": [
      "WARNING:tensorflow:Error in loading the saved optimizer state. As a result, your model is starting with a freshly initialized optimizer.\n",
      "_________________________________________________________________\n",
      "Layer (type)                 Output Shape              Param #   \n",
      "=================================================================\n",
      "reshape_2 (Reshape)          (None, 28, 28, 1)         0         \n",
      "_________________________________________________________________\n",
      "conv2d_3 (Conv2D)            (None, 24, 24, 32)        832       \n",
      "_________________________________________________________________\n",
      "max_pooling2d_3 (MaxPooling2 (None, 12, 12, 32)        0         \n",
      "_________________________________________________________________\n",
      "conv2d_4 (Conv2D)            (None, 8, 8, 64)          51264     \n",
      "_________________________________________________________________\n",
      "max_pooling2d_4 (MaxPooling2 (None, 4, 4, 64)          0         \n",
      "_________________________________________________________________\n",
      "flatten_4 (Flatten)          (None, 1024)              0         \n",
      "_________________________________________________________________\n",
      "dense_6 (Dense)              (None, 100)               102500    \n",
      "_________________________________________________________________\n",
      "dropout_2 (Dropout)          (None, 100)               0         \n",
      "_________________________________________________________________\n",
      "dense_7 (Dense)              (None, 10)                1010      \n",
      "=================================================================\n",
      "Total params: 155,606\n",
      "Trainable params: 155,606\n",
      "Non-trainable params: 0\n",
      "_________________________________________________________________\n"
     ]
    }
   ],
   "source": [
    "model = keras.models.load_model('../data/keras_cnn_model.h5')\n",
    "model.summary()"
   ]
  },
  {
   "cell_type": "code",
   "execution_count": 31,
   "metadata": {},
   "outputs": [
    {
     "name": "stdout",
     "output_type": "stream",
     "text": [
      "Finall test accuracy 0.9934\n"
     ]
    },
    {
     "data": {
      "image/png": "[encoded data removed]",
      "text/plain": [
       "<Figure size 432x288 with 1 Axes>"
      ]
     },
     "metadata": {
      "image/png": {
       "height": 264,
       "width": 391
      },
      "needs_background": "light"
     },
     "output_type": "display_data"
    }
   ],
   "source": [
    "with open(\"../data/keras_cnn_history.p\", \"rb\") as f:\n",
    "    history = pickle.load(f)\n",
    "plot_history(history)\n",
    "print(\"Finall test accuracy {:.4f}\".format(history['val_acc'][-1]))"
   ]
  },
  {
   "cell_type": "markdown",
   "metadata": {},
   "source": [
    "# Exercise\n",
    "\n",
    "Use a feed forward or convolutional network to classify images in the [Fashion-MNIST](../exercises/CNN.ipynb) dataset."
   ]
  },
  {
   "cell_type": "markdown",
   "metadata": {},
   "source": [
    "# References\n",
    "\n",
    "- Keras [docs](https://keras.io)\n",
    "- See the [Keras examples library](https://github.com/keras-team/keras/tree/master/examples)\n",
    "- Visualize the network weights using Quiver.\n",
    "- [TensorFlow](http://tensorflow.org)'s website has tutorials"
   ]
  },
  {
   "cell_type": "markdown",
   "metadata": {},
   "source": [
    "# Colophon\n",
    "This notebook was written by [Yoav Ram](http://python.yoavram.com) and is part of the [_Deep Learning for Software Developers_](https://python.yoavram.com/Deep4Devs) course.\n",
    "\n",
    "The notebook was written using [Python](http://python.org/) 3.6.3, [IPython](http://ipython.org/) 6.2.1, [Jupyter](http://jupyter.org) 5.1.0.\n",
    "\n",
    "This work is licensed under a CC BY-NC-SA 4.0 International License.\n",
    "\n",
    "![Python logo](https://www.python.org/static/community_logos/python-logo.png)"
   ]
  }
 ],
 "metadata": {
  "kernelspec": {
   "display_name": "Python [conda env:DataSciPy]",
   "language": "python",
   "name": "conda-env-DataSciPy-py"
  },
  "language_info": {
   "codemirror_mode": {
    "name": "ipython",
    "version": 3
   },
   "file_extension": ".py",
   "mimetype": "text/x-python",
   "name": "python",
   "nbconvert_exporter": "python",
   "pygments_lexer": "ipython3",
   "version": "3.6.11"
  }
 },
 "nbformat": 4,
 "nbformat_minor": 4
}
